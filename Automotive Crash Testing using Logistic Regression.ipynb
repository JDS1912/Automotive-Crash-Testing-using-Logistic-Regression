{
 "cells": [
  {
   "cell_type": "markdown",
   "id": "ab894483",
   "metadata": {},
   "source": [
    "## Introduction to Logistic Regression (Key Features:)"
   ]
  },
  {
   "cell_type": "markdown",
   "id": "0ddfdd2c",
   "metadata": {},
   "source": [
    "1. Logistic Regression is primarily used as a classification algorithm.\n",
    "2. It is a supervised learning algorithm, i.e. Data is labelled.\n",
    "3. It is a parametric approach.\n",
    "4. Decision boundary derived based on probability interpretation.\n",
    "5. Decision boundary can be linear/non-linear.\n",
    "6. Probabilities are modelled as a sigmoidal function."
   ]
  },
  {
   "cell_type": "markdown",
   "id": "ee82dc11",
   "metadata": {},
   "source": [
    "The problem statement used for this project is based on ‘Automotive Crash Testing’.\n",
    "A crash test is a form of destructive testing that is performed in order to ensure high safety standards for various cars is known as Automotive Crash Testing."
   ]
  },
  {
   "cell_type": "markdown",
   "id": "058ef0b2",
   "metadata": {},
   "source": [
    "## Automotive Crash Testing - Problem Statement:"
   ]
  },
  {
   "cell_type": "markdown",
   "id": "458142cd",
   "metadata": {},
   "source": [
    "Several cars have rolled into an independent audit unit for crash test. They are being evaluated on a defined scale {poor(-10) to excellent(10)}on:\n",
    "\n",
    "1. Manikin Head Impact\n",
    "2. Manikin Body Impact\n",
    "3. Interior Impact\n",
    "4. Heat Ventilation Air Impact\n",
    "5. Safety Alarm System\n",
    "\n",
    "Since this is an example problem, we assume that the crash test was performed only on 100 cars. At the end of each test, the type of car - either Hatchback/SUV was noted. On the basis of this data analyzed, prediction of the type of the car in the future would be possible. We have used a part of data from the dataset for building the model whereas the remaining part of data would be used by us for analysis. We would use the data of the first 80 cars for model building whereas the data of remaining of 20 cars would be used for analysis."
   ]
  },
  {
   "cell_type": "markdown",
   "id": "3e9cdb83",
   "metadata": {},
   "source": [
    "Logistic Regression technique would primarily be used for classification of the types of car into Hatchback/SUV."
   ]
  },
  {
   "cell_type": "markdown",
   "id": "eecfcf96",
   "metadata": {},
   "source": [
    "## Implementation of Logistic Regression using Python"
   ]
  },
  {
   "cell_type": "markdown",
   "id": "63c009e8",
   "metadata": {},
   "source": [
    "### Import Python Libraries"
   ]
  },
  {
   "cell_type": "code",
   "execution_count": 25,
   "id": "e4dfa845",
   "metadata": {},
   "outputs": [],
   "source": [
    "import numpy as np\n",
    "import pandas as pd\n",
    "import nltk\n",
    "import sklearn\n",
    "\n",
    "from sklearn.preprocessing import StandardScaler\n",
    "from sklearn.model_selection import train_test_split\n",
    "from sklearn.linear_model import LogisticRegression\n",
    "from sklearn.metrics import log_loss, roc_auc_score, recall_score, precision_score, average_precision_score, f1_score, classification_report, accuracy_score, plot_roc_curve, plot_precision_recall_curve, plot_confusion_matrix"
   ]
  },
  {
   "cell_type": "markdown",
   "id": "33df2682",
   "metadata": {},
   "source": [
    "### Read the data"
   ]
  },
  {
   "cell_type": "code",
   "execution_count": 26,
   "id": "38c2fe85",
   "metadata": {},
   "outputs": [
    {
     "data": {
      "text/html": [
       "<div>\n",
       "<style scoped>\n",
       "    .dataframe tbody tr th:only-of-type {\n",
       "        vertical-align: middle;\n",
       "    }\n",
       "\n",
       "    .dataframe tbody tr th {\n",
       "        vertical-align: top;\n",
       "    }\n",
       "\n",
       "    .dataframe thead th {\n",
       "        text-align: right;\n",
       "    }\n",
       "</style>\n",
       "<table border=\"1\" class=\"dataframe\">\n",
       "  <thead>\n",
       "    <tr style=\"text-align: right;\">\n",
       "      <th></th>\n",
       "      <th>CarID</th>\n",
       "      <th>ManHI</th>\n",
       "      <th>ManBI</th>\n",
       "      <th>IntI</th>\n",
       "      <th>HVACi</th>\n",
       "      <th>Safety</th>\n",
       "      <th>CarType</th>\n",
       "    </tr>\n",
       "  </thead>\n",
       "  <tbody>\n",
       "    <tr>\n",
       "      <th>0</th>\n",
       "      <td>1</td>\n",
       "      <td>-5.27</td>\n",
       "      <td>-1.30</td>\n",
       "      <td>2.86</td>\n",
       "      <td>-4.85</td>\n",
       "      <td>4.04</td>\n",
       "      <td>1</td>\n",
       "    </tr>\n",
       "    <tr>\n",
       "      <th>1</th>\n",
       "      <td>2</td>\n",
       "      <td>-4.82</td>\n",
       "      <td>-5.38</td>\n",
       "      <td>9.72</td>\n",
       "      <td>-0.97</td>\n",
       "      <td>-4.57</td>\n",
       "      <td>2</td>\n",
       "    </tr>\n",
       "    <tr>\n",
       "      <th>2</th>\n",
       "      <td>3</td>\n",
       "      <td>9.57</td>\n",
       "      <td>-7.50</td>\n",
       "      <td>-7.61</td>\n",
       "      <td>1.33</td>\n",
       "      <td>-5.10</td>\n",
       "      <td>2</td>\n",
       "    </tr>\n",
       "    <tr>\n",
       "      <th>3</th>\n",
       "      <td>4</td>\n",
       "      <td>2.84</td>\n",
       "      <td>-2.85</td>\n",
       "      <td>0.92</td>\n",
       "      <td>5.51</td>\n",
       "      <td>-6.64</td>\n",
       "      <td>2</td>\n",
       "    </tr>\n",
       "    <tr>\n",
       "      <th>4</th>\n",
       "      <td>5</td>\n",
       "      <td>0.00</td>\n",
       "      <td>2.68</td>\n",
       "      <td>-4.15</td>\n",
       "      <td>0.85</td>\n",
       "      <td>5.58</td>\n",
       "      <td>1</td>\n",
       "    </tr>\n",
       "    <tr>\n",
       "      <th>...</th>\n",
       "      <td>...</td>\n",
       "      <td>...</td>\n",
       "      <td>...</td>\n",
       "      <td>...</td>\n",
       "      <td>...</td>\n",
       "      <td>...</td>\n",
       "      <td>...</td>\n",
       "    </tr>\n",
       "    <tr>\n",
       "      <th>95</th>\n",
       "      <td>96</td>\n",
       "      <td>8.29</td>\n",
       "      <td>1.44</td>\n",
       "      <td>-7.26</td>\n",
       "      <td>5.06</td>\n",
       "      <td>-7.00</td>\n",
       "      <td>1</td>\n",
       "    </tr>\n",
       "    <tr>\n",
       "      <th>96</th>\n",
       "      <td>97</td>\n",
       "      <td>9.09</td>\n",
       "      <td>-2.26</td>\n",
       "      <td>1.64</td>\n",
       "      <td>2.80</td>\n",
       "      <td>-1.22</td>\n",
       "      <td>2</td>\n",
       "    </tr>\n",
       "    <tr>\n",
       "      <th>97</th>\n",
       "      <td>98</td>\n",
       "      <td>5.04</td>\n",
       "      <td>4.52</td>\n",
       "      <td>0.28</td>\n",
       "      <td>8.26</td>\n",
       "      <td>4.59</td>\n",
       "      <td>2</td>\n",
       "    </tr>\n",
       "    <tr>\n",
       "      <th>98</th>\n",
       "      <td>99</td>\n",
       "      <td>4.55</td>\n",
       "      <td>-3.88</td>\n",
       "      <td>-2.02</td>\n",
       "      <td>-1.20</td>\n",
       "      <td>-0.42</td>\n",
       "      <td>2</td>\n",
       "    </tr>\n",
       "    <tr>\n",
       "      <th>99</th>\n",
       "      <td>100</td>\n",
       "      <td>-5.55</td>\n",
       "      <td>6.02</td>\n",
       "      <td>8.87</td>\n",
       "      <td>5.26</td>\n",
       "      <td>-2.27</td>\n",
       "      <td>2</td>\n",
       "    </tr>\n",
       "  </tbody>\n",
       "</table>\n",
       "<p>100 rows × 7 columns</p>\n",
       "</div>"
      ],
      "text/plain": [
       "    CarID  ManHI  ManBI  IntI  HVACi  Safety  CarType\n",
       "0       1  -5.27  -1.30  2.86  -4.85    4.04        1\n",
       "1       2  -4.82  -5.38  9.72  -0.97   -4.57        2\n",
       "2       3   9.57  -7.50 -7.61   1.33   -5.10        2\n",
       "3       4   2.84  -2.85  0.92   5.51   -6.64        2\n",
       "4       5   0.00   2.68 -4.15   0.85    5.58        1\n",
       "..    ...    ...    ...   ...    ...     ...      ...\n",
       "95     96   8.29   1.44 -7.26   5.06   -7.00        1\n",
       "96     97   9.09  -2.26  1.64   2.80   -1.22        2\n",
       "97     98   5.04   4.52  0.28   8.26    4.59        2\n",
       "98     99   4.55  -3.88 -2.02  -1.20   -0.42        2\n",
       "99    100  -5.55   6.02  8.87   5.26   -2.27        2\n",
       "\n",
       "[100 rows x 7 columns]"
      ]
     },
     "execution_count": 26,
     "metadata": {},
     "output_type": "execute_result"
    }
   ],
   "source": [
    "df = pd.read_csv(r\"C:\\Users\\jaini\\OneDrive\\Documents\\crashTest_1.csv\")\n",
    "df"
   ]
  },
  {
   "cell_type": "markdown",
   "id": "4d13ad42",
   "metadata": {},
   "source": [
    "### Explore, Understand and Clean the Data"
   ]
  },
  {
   "cell_type": "code",
   "execution_count": 27,
   "id": "bdbd6710",
   "metadata": {},
   "outputs": [
    {
     "data": {
      "text/html": [
       "<div>\n",
       "<style scoped>\n",
       "    .dataframe tbody tr th:only-of-type {\n",
       "        vertical-align: middle;\n",
       "    }\n",
       "\n",
       "    .dataframe tbody tr th {\n",
       "        vertical-align: top;\n",
       "    }\n",
       "\n",
       "    .dataframe thead th {\n",
       "        text-align: right;\n",
       "    }\n",
       "</style>\n",
       "<table border=\"1\" class=\"dataframe\">\n",
       "  <thead>\n",
       "    <tr style=\"text-align: right;\">\n",
       "      <th></th>\n",
       "      <th>CarID</th>\n",
       "      <th>ManHI</th>\n",
       "      <th>ManBI</th>\n",
       "      <th>IntI</th>\n",
       "      <th>HVACi</th>\n",
       "      <th>Safety</th>\n",
       "      <th>CarType</th>\n",
       "    </tr>\n",
       "  </thead>\n",
       "  <tbody>\n",
       "    <tr>\n",
       "      <th>0</th>\n",
       "      <td>1</td>\n",
       "      <td>-5.27</td>\n",
       "      <td>-1.30</td>\n",
       "      <td>2.86</td>\n",
       "      <td>-4.85</td>\n",
       "      <td>4.04</td>\n",
       "      <td>1</td>\n",
       "    </tr>\n",
       "    <tr>\n",
       "      <th>1</th>\n",
       "      <td>2</td>\n",
       "      <td>-4.82</td>\n",
       "      <td>-5.38</td>\n",
       "      <td>9.72</td>\n",
       "      <td>-0.97</td>\n",
       "      <td>-4.57</td>\n",
       "      <td>2</td>\n",
       "    </tr>\n",
       "    <tr>\n",
       "      <th>2</th>\n",
       "      <td>3</td>\n",
       "      <td>9.57</td>\n",
       "      <td>-7.50</td>\n",
       "      <td>-7.61</td>\n",
       "      <td>1.33</td>\n",
       "      <td>-5.10</td>\n",
       "      <td>2</td>\n",
       "    </tr>\n",
       "    <tr>\n",
       "      <th>3</th>\n",
       "      <td>4</td>\n",
       "      <td>2.84</td>\n",
       "      <td>-2.85</td>\n",
       "      <td>0.92</td>\n",
       "      <td>5.51</td>\n",
       "      <td>-6.64</td>\n",
       "      <td>2</td>\n",
       "    </tr>\n",
       "    <tr>\n",
       "      <th>4</th>\n",
       "      <td>5</td>\n",
       "      <td>0.00</td>\n",
       "      <td>2.68</td>\n",
       "      <td>-4.15</td>\n",
       "      <td>0.85</td>\n",
       "      <td>5.58</td>\n",
       "      <td>1</td>\n",
       "    </tr>\n",
       "  </tbody>\n",
       "</table>\n",
       "</div>"
      ],
      "text/plain": [
       "   CarID  ManHI  ManBI  IntI  HVACi  Safety  CarType\n",
       "0      1  -5.27  -1.30  2.86  -4.85    4.04        1\n",
       "1      2  -4.82  -5.38  9.72  -0.97   -4.57        2\n",
       "2      3   9.57  -7.50 -7.61   1.33   -5.10        2\n",
       "3      4   2.84  -2.85  0.92   5.51   -6.64        2\n",
       "4      5   0.00   2.68 -4.15   0.85    5.58        1"
      ]
     },
     "execution_count": 27,
     "metadata": {},
     "output_type": "execute_result"
    }
   ],
   "source": [
    "df.head()"
   ]
  },
  {
   "cell_type": "code",
   "execution_count": 28,
   "id": "5fb0060d",
   "metadata": {},
   "outputs": [
    {
     "name": "stdout",
     "output_type": "stream",
     "text": [
      "Rows: 100\n",
      "Columns: 7\n"
     ]
    }
   ],
   "source": [
    "rows, columns = df.shape\n",
    "print('Rows:', rows)\n",
    "print('Columns:', columns)"
   ]
  },
  {
   "cell_type": "code",
   "execution_count": 29,
   "id": "73bf1d23",
   "metadata": {},
   "outputs": [
    {
     "name": "stdout",
     "output_type": "stream",
     "text": [
      "<class 'pandas.core.frame.DataFrame'>\n",
      "RangeIndex: 100 entries, 0 to 99\n",
      "Data columns (total 7 columns):\n",
      " #   Column   Non-Null Count  Dtype  \n",
      "---  ------   --------------  -----  \n",
      " 0   CarID    100 non-null    int64  \n",
      " 1   ManHI    100 non-null    float64\n",
      " 2   ManBI    100 non-null    float64\n",
      " 3   IntI     100 non-null    float64\n",
      " 4   HVACi    100 non-null    float64\n",
      " 5   Safety   100 non-null    float64\n",
      " 6   CarType  100 non-null    int64  \n",
      "dtypes: float64(5), int64(2)\n",
      "memory usage: 5.6 KB\n"
     ]
    }
   ],
   "source": [
    "df.info()"
   ]
  },
  {
   "cell_type": "code",
   "execution_count": 30,
   "id": "68f5e63e",
   "metadata": {},
   "outputs": [
    {
     "data": {
      "text/plain": [
       "Index(['CarID', 'ManHI', 'ManBI', 'IntI', 'HVACi', 'Safety', 'CarType'], dtype='object')"
      ]
     },
     "execution_count": 30,
     "metadata": {},
     "output_type": "execute_result"
    }
   ],
   "source": [
    "df.columns"
   ]
  },
  {
   "cell_type": "markdown",
   "id": "0da22030",
   "metadata": {},
   "source": [
    "### Checking Missing Values in Data"
   ]
  },
  {
   "cell_type": "code",
   "execution_count": 31,
   "id": "8f837a87",
   "metadata": {},
   "outputs": [
    {
     "data": {
      "text/plain": [
       "CarID      0\n",
       "ManHI      0\n",
       "ManBI      0\n",
       "IntI       0\n",
       "HVACi      0\n",
       "Safety     0\n",
       "CarType    0\n",
       "dtype: int64"
      ]
     },
     "execution_count": 31,
     "metadata": {},
     "output_type": "execute_result"
    }
   ],
   "source": [
    "df.isnull().sum()"
   ]
  },
  {
   "cell_type": "markdown",
   "id": "2543f034",
   "metadata": {},
   "source": [
    "### Dropping missing values from the Data"
   ]
  },
  {
   "cell_type": "code",
   "execution_count": 32,
   "id": "eee22024",
   "metadata": {},
   "outputs": [
    {
     "data": {
      "text/html": [
       "<div>\n",
       "<style scoped>\n",
       "    .dataframe tbody tr th:only-of-type {\n",
       "        vertical-align: middle;\n",
       "    }\n",
       "\n",
       "    .dataframe tbody tr th {\n",
       "        vertical-align: top;\n",
       "    }\n",
       "\n",
       "    .dataframe thead th {\n",
       "        text-align: right;\n",
       "    }\n",
       "</style>\n",
       "<table border=\"1\" class=\"dataframe\">\n",
       "  <thead>\n",
       "    <tr style=\"text-align: right;\">\n",
       "      <th></th>\n",
       "      <th>CarID</th>\n",
       "      <th>ManHI</th>\n",
       "      <th>ManBI</th>\n",
       "      <th>IntI</th>\n",
       "      <th>HVACi</th>\n",
       "      <th>Safety</th>\n",
       "      <th>CarType</th>\n",
       "    </tr>\n",
       "  </thead>\n",
       "  <tbody>\n",
       "    <tr>\n",
       "      <th>0</th>\n",
       "      <td>1</td>\n",
       "      <td>-5.27</td>\n",
       "      <td>-1.30</td>\n",
       "      <td>2.86</td>\n",
       "      <td>-4.85</td>\n",
       "      <td>4.04</td>\n",
       "      <td>1</td>\n",
       "    </tr>\n",
       "    <tr>\n",
       "      <th>1</th>\n",
       "      <td>2</td>\n",
       "      <td>-4.82</td>\n",
       "      <td>-5.38</td>\n",
       "      <td>9.72</td>\n",
       "      <td>-0.97</td>\n",
       "      <td>-4.57</td>\n",
       "      <td>2</td>\n",
       "    </tr>\n",
       "    <tr>\n",
       "      <th>2</th>\n",
       "      <td>3</td>\n",
       "      <td>9.57</td>\n",
       "      <td>-7.50</td>\n",
       "      <td>-7.61</td>\n",
       "      <td>1.33</td>\n",
       "      <td>-5.10</td>\n",
       "      <td>2</td>\n",
       "    </tr>\n",
       "    <tr>\n",
       "      <th>3</th>\n",
       "      <td>4</td>\n",
       "      <td>2.84</td>\n",
       "      <td>-2.85</td>\n",
       "      <td>0.92</td>\n",
       "      <td>5.51</td>\n",
       "      <td>-6.64</td>\n",
       "      <td>2</td>\n",
       "    </tr>\n",
       "    <tr>\n",
       "      <th>4</th>\n",
       "      <td>5</td>\n",
       "      <td>0.00</td>\n",
       "      <td>2.68</td>\n",
       "      <td>-4.15</td>\n",
       "      <td>0.85</td>\n",
       "      <td>5.58</td>\n",
       "      <td>1</td>\n",
       "    </tr>\n",
       "    <tr>\n",
       "      <th>...</th>\n",
       "      <td>...</td>\n",
       "      <td>...</td>\n",
       "      <td>...</td>\n",
       "      <td>...</td>\n",
       "      <td>...</td>\n",
       "      <td>...</td>\n",
       "      <td>...</td>\n",
       "    </tr>\n",
       "    <tr>\n",
       "      <th>95</th>\n",
       "      <td>96</td>\n",
       "      <td>8.29</td>\n",
       "      <td>1.44</td>\n",
       "      <td>-7.26</td>\n",
       "      <td>5.06</td>\n",
       "      <td>-7.00</td>\n",
       "      <td>1</td>\n",
       "    </tr>\n",
       "    <tr>\n",
       "      <th>96</th>\n",
       "      <td>97</td>\n",
       "      <td>9.09</td>\n",
       "      <td>-2.26</td>\n",
       "      <td>1.64</td>\n",
       "      <td>2.80</td>\n",
       "      <td>-1.22</td>\n",
       "      <td>2</td>\n",
       "    </tr>\n",
       "    <tr>\n",
       "      <th>97</th>\n",
       "      <td>98</td>\n",
       "      <td>5.04</td>\n",
       "      <td>4.52</td>\n",
       "      <td>0.28</td>\n",
       "      <td>8.26</td>\n",
       "      <td>4.59</td>\n",
       "      <td>2</td>\n",
       "    </tr>\n",
       "    <tr>\n",
       "      <th>98</th>\n",
       "      <td>99</td>\n",
       "      <td>4.55</td>\n",
       "      <td>-3.88</td>\n",
       "      <td>-2.02</td>\n",
       "      <td>-1.20</td>\n",
       "      <td>-0.42</td>\n",
       "      <td>2</td>\n",
       "    </tr>\n",
       "    <tr>\n",
       "      <th>99</th>\n",
       "      <td>100</td>\n",
       "      <td>-5.55</td>\n",
       "      <td>6.02</td>\n",
       "      <td>8.87</td>\n",
       "      <td>5.26</td>\n",
       "      <td>-2.27</td>\n",
       "      <td>2</td>\n",
       "    </tr>\n",
       "  </tbody>\n",
       "</table>\n",
       "<p>100 rows × 7 columns</p>\n",
       "</div>"
      ],
      "text/plain": [
       "    CarID  ManHI  ManBI  IntI  HVACi  Safety  CarType\n",
       "0       1  -5.27  -1.30  2.86  -4.85    4.04        1\n",
       "1       2  -4.82  -5.38  9.72  -0.97   -4.57        2\n",
       "2       3   9.57  -7.50 -7.61   1.33   -5.10        2\n",
       "3       4   2.84  -2.85  0.92   5.51   -6.64        2\n",
       "4       5   0.00   2.68 -4.15   0.85    5.58        1\n",
       "..    ...    ...    ...   ...    ...     ...      ...\n",
       "95     96   8.29   1.44 -7.26   5.06   -7.00        1\n",
       "96     97   9.09  -2.26  1.64   2.80   -1.22        2\n",
       "97     98   5.04   4.52  0.28   8.26    4.59        2\n",
       "98     99   4.55  -3.88 -2.02  -1.20   -0.42        2\n",
       "99    100  -5.55   6.02  8.87   5.26   -2.27        2\n",
       "\n",
       "[100 rows x 7 columns]"
      ]
     },
     "execution_count": 32,
     "metadata": {},
     "output_type": "execute_result"
    }
   ],
   "source": [
    "df = df.dropna()\n",
    "df"
   ]
  },
  {
   "cell_type": "markdown",
   "id": "d7f8ca50",
   "metadata": {},
   "source": [
    "### Analyzing the Data"
   ]
  },
  {
   "cell_type": "code",
   "execution_count": 33,
   "id": "cf1c0236",
   "metadata": {},
   "outputs": [
    {
     "data": {
      "text/html": [
       "<div>\n",
       "<style scoped>\n",
       "    .dataframe tbody tr th:only-of-type {\n",
       "        vertical-align: middle;\n",
       "    }\n",
       "\n",
       "    .dataframe tbody tr th {\n",
       "        vertical-align: top;\n",
       "    }\n",
       "\n",
       "    .dataframe thead th {\n",
       "        text-align: right;\n",
       "    }\n",
       "</style>\n",
       "<table border=\"1\" class=\"dataframe\">\n",
       "  <thead>\n",
       "    <tr style=\"text-align: right;\">\n",
       "      <th></th>\n",
       "      <th>CarID</th>\n",
       "      <th>ManHI</th>\n",
       "      <th>ManBI</th>\n",
       "      <th>IntI</th>\n",
       "      <th>HVACi</th>\n",
       "      <th>Safety</th>\n",
       "      <th>CarType</th>\n",
       "    </tr>\n",
       "  </thead>\n",
       "  <tbody>\n",
       "    <tr>\n",
       "      <th>count</th>\n",
       "      <td>100.000000</td>\n",
       "      <td>100.000000</td>\n",
       "      <td>100.000000</td>\n",
       "      <td>100.000000</td>\n",
       "      <td>100.000000</td>\n",
       "      <td>100.000000</td>\n",
       "      <td>100.000000</td>\n",
       "    </tr>\n",
       "    <tr>\n",
       "      <th>mean</th>\n",
       "      <td>50.500000</td>\n",
       "      <td>-0.065400</td>\n",
       "      <td>-0.676600</td>\n",
       "      <td>-0.003100</td>\n",
       "      <td>0.240500</td>\n",
       "      <td>0.473200</td>\n",
       "      <td>1.600000</td>\n",
       "    </tr>\n",
       "    <tr>\n",
       "      <th>std</th>\n",
       "      <td>29.011492</td>\n",
       "      <td>5.863313</td>\n",
       "      <td>5.332167</td>\n",
       "      <td>5.621494</td>\n",
       "      <td>5.726067</td>\n",
       "      <td>5.840216</td>\n",
       "      <td>0.492366</td>\n",
       "    </tr>\n",
       "    <tr>\n",
       "      <th>min</th>\n",
       "      <td>1.000000</td>\n",
       "      <td>-9.940000</td>\n",
       "      <td>-9.940000</td>\n",
       "      <td>-9.990000</td>\n",
       "      <td>-9.820000</td>\n",
       "      <td>-9.800000</td>\n",
       "      <td>1.000000</td>\n",
       "    </tr>\n",
       "    <tr>\n",
       "      <th>25%</th>\n",
       "      <td>25.750000</td>\n",
       "      <td>-5.312500</td>\n",
       "      <td>-4.557500</td>\n",
       "      <td>-4.760000</td>\n",
       "      <td>-5.177500</td>\n",
       "      <td>-5.017500</td>\n",
       "      <td>1.000000</td>\n",
       "    </tr>\n",
       "    <tr>\n",
       "      <th>50%</th>\n",
       "      <td>50.500000</td>\n",
       "      <td>0.665000</td>\n",
       "      <td>-1.510000</td>\n",
       "      <td>0.275000</td>\n",
       "      <td>0.870000</td>\n",
       "      <td>0.730000</td>\n",
       "      <td>2.000000</td>\n",
       "    </tr>\n",
       "    <tr>\n",
       "      <th>75%</th>\n",
       "      <td>75.250000</td>\n",
       "      <td>5.065000</td>\n",
       "      <td>3.362500</td>\n",
       "      <td>4.837500</td>\n",
       "      <td>5.185000</td>\n",
       "      <td>4.652500</td>\n",
       "      <td>2.000000</td>\n",
       "    </tr>\n",
       "    <tr>\n",
       "      <th>max</th>\n",
       "      <td>100.000000</td>\n",
       "      <td>9.570000</td>\n",
       "      <td>9.610000</td>\n",
       "      <td>9.720000</td>\n",
       "      <td>9.890000</td>\n",
       "      <td>9.990000</td>\n",
       "      <td>2.000000</td>\n",
       "    </tr>\n",
       "  </tbody>\n",
       "</table>\n",
       "</div>"
      ],
      "text/plain": [
       "            CarID       ManHI       ManBI        IntI       HVACi      Safety  \\\n",
       "count  100.000000  100.000000  100.000000  100.000000  100.000000  100.000000   \n",
       "mean    50.500000   -0.065400   -0.676600   -0.003100    0.240500    0.473200   \n",
       "std     29.011492    5.863313    5.332167    5.621494    5.726067    5.840216   \n",
       "min      1.000000   -9.940000   -9.940000   -9.990000   -9.820000   -9.800000   \n",
       "25%     25.750000   -5.312500   -4.557500   -4.760000   -5.177500   -5.017500   \n",
       "50%     50.500000    0.665000   -1.510000    0.275000    0.870000    0.730000   \n",
       "75%     75.250000    5.065000    3.362500    4.837500    5.185000    4.652500   \n",
       "max    100.000000    9.570000    9.610000    9.720000    9.890000    9.990000   \n",
       "\n",
       "          CarType  \n",
       "count  100.000000  \n",
       "mean     1.600000  \n",
       "std      0.492366  \n",
       "min      1.000000  \n",
       "25%      1.000000  \n",
       "50%      2.000000  \n",
       "75%      2.000000  \n",
       "max      2.000000  "
      ]
     },
     "execution_count": 33,
     "metadata": {},
     "output_type": "execute_result"
    }
   ],
   "source": [
    "df.describe()"
   ]
  },
  {
   "cell_type": "markdown",
   "id": "ae84e7d3",
   "metadata": {},
   "source": [
    "### Splitting Dataset into Feature and Target Variables"
   ]
  },
  {
   "cell_type": "markdown",
   "id": "c54cecc3",
   "metadata": {},
   "source": [
    "Here, you need to divide the given columns into two types of variables dependent(or target variable) and independent variable(or feature variables)."
   ]
  },
  {
   "cell_type": "code",
   "execution_count": 35,
   "id": "8a50efd8",
   "metadata": {},
   "outputs": [],
   "source": [
    "feature_cols = ['CarID','ManHI','ManBI','IntI','HVACi','Safety']\n",
    "X = df[feature_cols]\n",
    "y = df.CarType"
   ]
  },
  {
   "cell_type": "markdown",
   "id": "5da2264e",
   "metadata": {},
   "source": [
    "### Splitting X and y into training and testing sets"
   ]
  },
  {
   "cell_type": "markdown",
   "id": "355095d8",
   "metadata": {},
   "source": [
    "Dividing the dataset into a training set and a test set is a good strategy to understand model performance."
   ]
  },
  {
   "cell_type": "code",
   "execution_count": 37,
   "id": "fe5e331a",
   "metadata": {},
   "outputs": [],
   "source": [
    "from sklearn.model_selection import train_test_split\n",
    "X_train,X_test,y_train,y_test=train_test_split(X,y,test_size=0.25,random_state=0)"
   ]
  },
  {
   "cell_type": "markdown",
   "id": "d1a32949",
   "metadata": {},
   "source": [
    "Here, the Dataset is broken into two parts in a ratio of 75:25. It means 75% data will be used for model training and 25% for model testing."
   ]
  },
  {
   "cell_type": "markdown",
   "id": "8fb2cff4",
   "metadata": {},
   "source": [
    "### Model Development and Prediction"
   ]
  },
  {
   "cell_type": "markdown",
   "id": "233b8a22",
   "metadata": {},
   "source": [
    "1. Import the Logistic Regression module and create a Logistic Regression classifier object using LogisticRegression() function.\n",
    "2. Fit your model on the train set using fit() and perform prediction on the test set using predict()."
   ]
  },
  {
   "cell_type": "code",
   "execution_count": 38,
   "id": "3a67a9fb",
   "metadata": {},
   "outputs": [],
   "source": [
    "from sklearn.linear_model import LogisticRegression\n",
    "logreg = LogisticRegression()\n",
    "logreg.fit(X_train,y_train)\n",
    "y_pred=logreg.predict(X_test)"
   ]
  },
  {
   "cell_type": "markdown",
   "id": "41145385",
   "metadata": {},
   "source": [
    "### Model Evaluation using Confusion Matrix"
   ]
  },
  {
   "cell_type": "markdown",
   "id": "46b8645e",
   "metadata": {},
   "source": [
    "A confusion matrix is a table that is used to evaluate the performance of a classification model. You can also visualize the performance of an algorithm. The fundamental of a confusion matrix is the number of correct and incorrect predictions are summed up class-wise."
   ]
  },
  {
   "cell_type": "code",
   "execution_count": 39,
   "id": "d96cc419",
   "metadata": {},
   "outputs": [
    {
     "data": {
      "text/plain": [
       "array([[ 8,  0],\n",
       "       [ 2, 15]], dtype=int64)"
      ]
     },
     "execution_count": 39,
     "metadata": {},
     "output_type": "execute_result"
    }
   ],
   "source": [
    "from sklearn import metrics\n",
    "cnf_matrix = metrics.confusion_matrix(y_test, y_pred)\n",
    "cnf_matrix"
   ]
  },
  {
   "cell_type": "markdown",
   "id": "edf58423",
   "metadata": {},
   "source": [
    "Here, you can see the confusion matrix in the form of the array object. The dimension of this matrix is 2X2 because this model is binary classification. You have two classes 0 and 1.\n",
    "\n",
    "1. Diagonal values represent accurate predictions.\n",
    "2. Non-diagonal elements are inaccurate predictions.\n",
    "\n",
    "In the output, 8 and 15 are actual predictions, and 2 and 0 are incorrect predictions."
   ]
  },
  {
   "cell_type": "markdown",
   "id": "7aa6a5dc",
   "metadata": {},
   "source": [
    "### Confusion Matrix Evaluation Metrics"
   ]
  },
  {
   "cell_type": "code",
   "execution_count": 40,
   "id": "1cf92fba",
   "metadata": {},
   "outputs": [
    {
     "name": "stdout",
     "output_type": "stream",
     "text": [
      "Accuracy: 0.92\n",
      "Precision: 0.8\n",
      "Recall: 1.0\n"
     ]
    }
   ],
   "source": [
    "print(\"Accuracy:\",metrics.accuracy_score(y_test, y_pred))\n",
    "print(\"Precision:\",metrics.precision_score(y_test, y_pred))\n",
    "print(\"Recall:\",metrics.recall_score(y_test, y_pred))"
   ]
  },
  {
   "cell_type": "markdown",
   "id": "719ff2e7",
   "metadata": {},
   "source": [
    "We got a classification rate of 92%, which is considered as a very good accuracy. "
   ]
  },
  {
   "cell_type": "markdown",
   "id": "c369dc81",
   "metadata": {},
   "source": [
    "### Visualizing Confusion Matrix using HeatMap"
   ]
  },
  {
   "cell_type": "code",
   "execution_count": 41,
   "id": "f26b7c82",
   "metadata": {},
   "outputs": [],
   "source": [
    "import numpy as np\n",
    "import matplotlib.pyplot as plt\n",
    "import seaborn as sns\n",
    "%matplotlib inline"
   ]
  },
  {
   "cell_type": "code",
   "execution_count": 42,
   "id": "c3662fb6",
   "metadata": {},
   "outputs": [
    {
     "data": {
      "text/plain": [
       "Text(0.5, 257.44, 'Predicted label')"
      ]
     },
     "execution_count": 42,
     "metadata": {},
     "output_type": "execute_result"
    },
    {
     "data": {
      "image/png": "[encoded data removed]",
      "text/plain": [
       "<Figure size 432x288 with 2 Axes>"
      ]
     },
     "metadata": {
      "needs_background": "light"
     },
     "output_type": "display_data"
    }
   ],
   "source": [
    "class_names=[0,1] # name  of classes\n",
    "fig, ax = plt.subplots()\n",
    "tick_marks = np.arange(len(class_names))\n",
    "plt.xticks(tick_marks, class_names)\n",
    "plt.yticks(tick_marks, class_names)\n",
    "# create heatmap\n",
    "sns.heatmap(pd.DataFrame(cnf_matrix), annot=True, cmap=\"YlGnBu\" ,fmt='g')\n",
    "ax.xaxis.set_label_position(\"top\")\n",
    "plt.tight_layout()\n",
    "plt.title('Confusion matrix', y=1.1)\n",
    "plt.ylabel('Actual label')\n",
    "plt.xlabel('Predicted label')"
   ]
  }
 ],
 "metadata": {
  "kernelspec": {
   "display_name": "Python 3 (ipykernel)",
   "language": "python",
   "name": "python3"
  },
  "language_info": {
   "codemirror_mode": {
    "name": "ipython",
    "version": 3
   },
   "file_extension": ".py",
   "mimetype": "text/x-python",
   "name": "python",
   "nbconvert_exporter": "python",
   "pygments_lexer": "ipython3",
   "version": "3.9.7"
  }
 },
 "nbformat": 4,
 "nbformat_minor": 5
}
